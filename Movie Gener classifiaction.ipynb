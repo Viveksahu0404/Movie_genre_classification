{
 "cells": [
  {
   "cell_type": "code",
   "execution_count": 8,
   "id": "50c24e0d",
   "metadata": {},
   "outputs": [],
   "source": [
    "import numpy as np\n",
    "import pandas as pd\n",
    "import sklearn\n",
    "import tensorflow as tf"
   ]
  },
  {
   "cell_type": "code",
   "execution_count": 10,
   "id": "117aa860",
   "metadata": {},
   "outputs": [
    {
     "data": {
      "text/html": [
       "<div>\n",
       "<style scoped>\n",
       "    .dataframe tbody tr th:only-of-type {\n",
       "        vertical-align: middle;\n",
       "    }\n",
       "\n",
       "    .dataframe tbody tr th {\n",
       "        vertical-align: top;\n",
       "    }\n",
       "\n",
       "    .dataframe thead th {\n",
       "        text-align: right;\n",
       "    }\n",
       "</style>\n",
       "<table border=\"1\" class=\"dataframe\">\n",
       "  <thead>\n",
       "    <tr style=\"text-align: right;\">\n",
       "      <th></th>\n",
       "      <th>id</th>\n",
       "      <th>movie_name</th>\n",
       "      <th>synopsis</th>\n",
       "      <th>genre</th>\n",
       "    </tr>\n",
       "  </thead>\n",
       "  <tbody>\n",
       "    <tr>\n",
       "      <th>0</th>\n",
       "      <td>44978</td>\n",
       "      <td>Super Me</td>\n",
       "      <td>A young scriptwriter starts bringing valuable ...</td>\n",
       "      <td>fantasy</td>\n",
       "    </tr>\n",
       "    <tr>\n",
       "      <th>1</th>\n",
       "      <td>50185</td>\n",
       "      <td>Entity Project</td>\n",
       "      <td>A director and her friends renting a haunted h...</td>\n",
       "      <td>horror</td>\n",
       "    </tr>\n",
       "    <tr>\n",
       "      <th>2</th>\n",
       "      <td>34131</td>\n",
       "      <td>Behavioral Family Therapy for Serious Psychiat...</td>\n",
       "      <td>This is an educational video for families and ...</td>\n",
       "      <td>family</td>\n",
       "    </tr>\n",
       "    <tr>\n",
       "      <th>3</th>\n",
       "      <td>78522</td>\n",
       "      <td>Blood Glacier</td>\n",
       "      <td>Scientists working in the Austrian Alps discov...</td>\n",
       "      <td>scifi</td>\n",
       "    </tr>\n",
       "    <tr>\n",
       "      <th>4</th>\n",
       "      <td>2206</td>\n",
       "      <td>Apat na anino</td>\n",
       "      <td>Buy Day - Four Men Widely - Apart in Life - By...</td>\n",
       "      <td>action</td>\n",
       "    </tr>\n",
       "    <tr>\n",
       "      <th>...</th>\n",
       "      <td>...</td>\n",
       "      <td>...</td>\n",
       "      <td>...</td>\n",
       "      <td>...</td>\n",
       "    </tr>\n",
       "    <tr>\n",
       "      <th>53995</th>\n",
       "      <td>80325</td>\n",
       "      <td>Untitled Monkeyshine/Ugly Brother Project</td>\n",
       "      <td>Two loser pest control buddies find themselves...</td>\n",
       "      <td>scifi</td>\n",
       "    </tr>\n",
       "    <tr>\n",
       "      <th>53996</th>\n",
       "      <td>84712</td>\n",
       "      <td>The Great Swindle</td>\n",
       "      <td>A seductive woman gets involved in relationshi...</td>\n",
       "      <td>thriller</td>\n",
       "    </tr>\n",
       "    <tr>\n",
       "      <th>53997</th>\n",
       "      <td>69801</td>\n",
       "      <td>When Men Get Pregnant</td>\n",
       "      <td>Duyen, a wedding dress staff, who decides to c...</td>\n",
       "      <td>romance</td>\n",
       "    </tr>\n",
       "    <tr>\n",
       "      <th>53998</th>\n",
       "      <td>7678</td>\n",
       "      <td>Suttu Pidikka Utharavu</td>\n",
       "      <td>The people of a crowded colony in Coimbatore c...</td>\n",
       "      <td>action</td>\n",
       "    </tr>\n",
       "    <tr>\n",
       "      <th>53999</th>\n",
       "      <td>33970</td>\n",
       "      <td>Margo the Mouse</td>\n",
       "      <td>Margo is a little mouse that lives quietly in ...</td>\n",
       "      <td>family</td>\n",
       "    </tr>\n",
       "  </tbody>\n",
       "</table>\n",
       "<p>54000 rows × 4 columns</p>\n",
       "</div>"
      ],
      "text/plain": [
       "          id                                         movie_name  \\\n",
       "0      44978                                           Super Me   \n",
       "1      50185                                     Entity Project   \n",
       "2      34131  Behavioral Family Therapy for Serious Psychiat...   \n",
       "3      78522                                      Blood Glacier   \n",
       "4       2206                                      Apat na anino   \n",
       "...      ...                                                ...   \n",
       "53995  80325          Untitled Monkeyshine/Ugly Brother Project   \n",
       "53996  84712                                  The Great Swindle   \n",
       "53997  69801                              When Men Get Pregnant   \n",
       "53998   7678                             Suttu Pidikka Utharavu   \n",
       "53999  33970                                    Margo the Mouse   \n",
       "\n",
       "                                                synopsis     genre  \n",
       "0      A young scriptwriter starts bringing valuable ...   fantasy  \n",
       "1      A director and her friends renting a haunted h...    horror  \n",
       "2      This is an educational video for families and ...    family  \n",
       "3      Scientists working in the Austrian Alps discov...     scifi  \n",
       "4      Buy Day - Four Men Widely - Apart in Life - By...    action  \n",
       "...                                                  ...       ...  \n",
       "53995  Two loser pest control buddies find themselves...     scifi  \n",
       "53996  A seductive woman gets involved in relationshi...  thriller  \n",
       "53997  Duyen, a wedding dress staff, who decides to c...   romance  \n",
       "53998  The people of a crowded colony in Coimbatore c...    action  \n",
       "53999  Margo is a little mouse that lives quietly in ...    family  \n",
       "\n",
       "[54000 rows x 4 columns]"
      ]
     },
     "execution_count": 10,
     "metadata": {},
     "output_type": "execute_result"
    }
   ],
   "source": [
    "\n",
    "df = pd.read_csv(\"train.csv\")\n",
    "df"
   ]
  },
  {
   "cell_type": "code",
   "execution_count": 11,
   "id": "0dc326fc",
   "metadata": {},
   "outputs": [
    {
     "data": {
      "text/plain": [
       "fantasy      5400\n",
       "horror       5400\n",
       "family       5400\n",
       "scifi        5400\n",
       "action       5400\n",
       "crime        5400\n",
       "adventure    5400\n",
       "mystery      5400\n",
       "romance      5400\n",
       "thriller     5400\n",
       "Name: genre, dtype: int64"
      ]
     },
     "execution_count": 11,
     "metadata": {},
     "output_type": "execute_result"
    }
   ],
   "source": [
    "df['genre'].value_counts()"
   ]
  },
  {
   "cell_type": "code",
   "execution_count": 12,
   "id": "4fec5901",
   "metadata": {},
   "outputs": [
    {
     "data": {
      "text/plain": [
       "<AxesSubplot:>"
      ]
     },
     "execution_count": 12,
     "metadata": {},
     "output_type": "execute_result"
    },
    {
     "data": {
      "image/png": "[encoded data removed]",
      "text/plain": [
       "<Figure size 432x288 with 1 Axes>"
      ]
     },
     "metadata": {
      "needs_background": "light"
     },
     "output_type": "display_data"
    }
   ],
   "source": [
    "(df['genre'].value_counts()).plot(kind='bar')"
   ]
  },
  {
   "cell_type": "code",
   "execution_count": 13,
   "id": "e9a858e1",
   "metadata": {},
   "outputs": [
    {
     "data": {
      "text/plain": [
       "((48600, 4), (5400, 4))"
      ]
     },
     "execution_count": 13,
     "metadata": {},
     "output_type": "execute_result"
    }
   ],
   "source": [
    "from sklearn.model_selection import train_test_split\n",
    "\n",
    "(train_df, test_df) = train_test_split(df, test_size=0.1, \n",
    "                                       random_state=42, \n",
    "                                       stratify=df['genre'])\n",
    "(train_df.shape, test_df.shape)"
   ]
  },
  {
   "cell_type": "code",
   "execution_count": 14,
   "id": "ae13f73f",
   "metadata": {},
   "outputs": [
    {
     "data": {
      "text/plain": [
       "romance      540\n",
       "horror       540\n",
       "action       540\n",
       "scifi        540\n",
       "family       540\n",
       "mystery      540\n",
       "crime        540\n",
       "adventure    540\n",
       "fantasy      540\n",
       "thriller     540\n",
       "Name: genre, dtype: int64"
      ]
     },
     "execution_count": 14,
     "metadata": {},
     "output_type": "execute_result"
    }
   ],
   "source": [
    "test_df['genre'].value_counts()"
   ]
  },
  {
   "cell_type": "code",
   "execution_count": 15,
   "id": "7fa84f09",
   "metadata": {},
   "outputs": [
    {
     "data": {
      "text/plain": [
       "<AxesSubplot:>"
      ]
     },
     "execution_count": 15,
     "metadata": {},
     "output_type": "execute_result"
    },
    {
     "data": {
      "image/png": "[encoded data removed]",
      "text/plain": [
       "<Figure size 432x288 with 1 Axes>"
      ]
     },
     "metadata": {
      "needs_background": "light"
     },
     "output_type": "display_data"
    }
   ],
   "source": [
    "(test_df['genre'].value_counts()).plot(kind='bar')"
   ]
  },
  {
   "cell_type": "code",
   "execution_count": 16,
   "id": "36e6a546",
   "metadata": {},
   "outputs": [
    {
     "data": {
      "text/plain": [
       "(38880, 9720)"
      ]
     },
     "execution_count": 16,
     "metadata": {},
     "output_type": "execute_result"
    }
   ],
   "source": [
    "train_df, val_df = train_test_split(train_df, test_size=0.2, \n",
    "                                    random_state=42,\n",
    "                                    stratify=train_df['genre'])\n",
    "\n",
    "len(train_df), len(val_df)"
   ]
  },
  {
   "cell_type": "code",
   "execution_count": 17,
   "id": "b4456b8f",
   "metadata": {},
   "outputs": [
    {
     "data": {
      "text/plain": [
       "horror       3888\n",
       "scifi        3888\n",
       "family       3888\n",
       "crime        3888\n",
       "thriller     3888\n",
       "romance      3888\n",
       "action       3888\n",
       "adventure    3888\n",
       "fantasy      3888\n",
       "mystery      3888\n",
       "Name: genre, dtype: int64"
      ]
     },
     "execution_count": 17,
     "metadata": {},
     "output_type": "execute_result"
    }
   ],
   "source": [
    "train_df['genre'].value_counts()"
   ]
  },
  {
   "cell_type": "code",
   "execution_count": 18,
   "id": "d17009c8",
   "metadata": {},
   "outputs": [
    {
     "data": {
      "text/plain": [
       "<AxesSubplot:>"
      ]
     },
     "execution_count": 18,
     "metadata": {},
     "output_type": "execute_result"
    },
    {
     "data": {
      "image/png": "[encoded data removed]",
      "text/plain": [
       "<Figure size 432x288 with 1 Axes>"
      ]
     },
     "metadata": {
      "needs_background": "light"
     },
     "output_type": "display_data"
    }
   ],
   "source": [
    "train_df['genre'].value_counts().plot(kind='bar')"
   ]
  },
  {
   "cell_type": "code",
   "execution_count": 19,
   "id": "59c34d98",
   "metadata": {},
   "outputs": [
    {
     "data": {
      "text/plain": [
       "romance      972\n",
       "crime        972\n",
       "scifi        972\n",
       "fantasy      972\n",
       "family       972\n",
       "mystery      972\n",
       "adventure    972\n",
       "action       972\n",
       "thriller     972\n",
       "horror       972\n",
       "Name: genre, dtype: int64"
      ]
     },
     "execution_count": 19,
     "metadata": {},
     "output_type": "execute_result"
    }
   ],
   "source": [
    "val_df['genre'].value_counts()"
   ]
  },
  {
   "cell_type": "code",
   "execution_count": 20,
   "id": "83203751",
   "metadata": {},
   "outputs": [
    {
     "data": {
      "text/html": [
       "<div>\n",
       "<style scoped>\n",
       "    .dataframe tbody tr th:only-of-type {\n",
       "        vertical-align: middle;\n",
       "    }\n",
       "\n",
       "    .dataframe tbody tr th {\n",
       "        vertical-align: top;\n",
       "    }\n",
       "\n",
       "    .dataframe thead th {\n",
       "        text-align: right;\n",
       "    }\n",
       "</style>\n",
       "<table border=\"1\" class=\"dataframe\">\n",
       "  <thead>\n",
       "    <tr style=\"text-align: right;\">\n",
       "      <th></th>\n",
       "      <th>count</th>\n",
       "      <th>mean</th>\n",
       "      <th>std</th>\n",
       "      <th>min</th>\n",
       "      <th>25%</th>\n",
       "      <th>50%</th>\n",
       "      <th>75%</th>\n",
       "      <th>max</th>\n",
       "    </tr>\n",
       "  </thead>\n",
       "  <tbody>\n",
       "    <tr>\n",
       "      <th>0</th>\n",
       "      <td>38880.0</td>\n",
       "      <td>2.837912</td>\n",
       "      <td>1.676202</td>\n",
       "      <td>1.0</td>\n",
       "      <td>2.0</td>\n",
       "      <td>2.0</td>\n",
       "      <td>4.0</td>\n",
       "      <td>20.0</td>\n",
       "    </tr>\n",
       "  </tbody>\n",
       "</table>\n",
       "</div>"
      ],
      "text/plain": [
       "     count      mean       std  min  25%  50%  75%   max\n",
       "0  38880.0  2.837912  1.676202  1.0  2.0  2.0  4.0  20.0"
      ]
     },
     "execution_count": 20,
     "metadata": {},
     "output_type": "execute_result"
    }
   ],
   "source": [
    "movie_name_lengths = [len(name.split()) for name in train_df['movie_name']]\n",
    "movie_name_lengths = pd.DataFrame(movie_name_lengths)\n",
    "\n",
    "movie_name_lengths.describe().transpose()"
   ]
  },
  {
   "cell_type": "code",
   "execution_count": 21,
   "id": "ba45a667",
   "metadata": {},
   "outputs": [
    {
     "data": {
      "text/plain": [
       "array([[<AxesSubplot:title={'center':'0'}>]], dtype=object)"
      ]
     },
     "execution_count": 21,
     "metadata": {},
     "output_type": "execute_result"
    },
    {
     "data": {
      "image/png": "[encoded data removed]",
      "text/plain": [
       "<Figure size 432x288 with 1 Axes>"
      ]
     },
     "metadata": {
      "needs_background": "light"
     },
     "output_type": "display_data"
    }
   ],
   "source": [
    "movie_name_lengths.hist()"
   ]
  },
  {
   "cell_type": "code",
   "execution_count": 22,
   "id": "a11e2139",
   "metadata": {},
   "outputs": [
    {
     "data": {
      "text/plain": [
       "8.0"
      ]
     },
     "execution_count": 22,
     "metadata": {},
     "output_type": "execute_result"
    }
   ],
   "source": [
    "np.percentile(movie_name_lengths, 99)"
   ]
  },
  {
   "cell_type": "code",
   "execution_count": 23,
   "id": "7754f37a",
   "metadata": {},
   "outputs": [
    {
     "data": {
      "text/html": [
       "<div>\n",
       "<style scoped>\n",
       "    .dataframe tbody tr th:only-of-type {\n",
       "        vertical-align: middle;\n",
       "    }\n",
       "\n",
       "    .dataframe tbody tr th {\n",
       "        vertical-align: top;\n",
       "    }\n",
       "\n",
       "    .dataframe thead th {\n",
       "        text-align: right;\n",
       "    }\n",
       "</style>\n",
       "<table border=\"1\" class=\"dataframe\">\n",
       "  <thead>\n",
       "    <tr style=\"text-align: right;\">\n",
       "      <th></th>\n",
       "      <th>count</th>\n",
       "      <th>mean</th>\n",
       "      <th>std</th>\n",
       "      <th>min</th>\n",
       "      <th>25%</th>\n",
       "      <th>50%</th>\n",
       "      <th>75%</th>\n",
       "      <th>max</th>\n",
       "    </tr>\n",
       "  </thead>\n",
       "  <tbody>\n",
       "    <tr>\n",
       "      <th>0</th>\n",
       "      <td>38880.0</td>\n",
       "      <td>26.233693</td>\n",
       "      <td>9.809758</td>\n",
       "      <td>1.0</td>\n",
       "      <td>19.0</td>\n",
       "      <td>26.0</td>\n",
       "      <td>34.0</td>\n",
       "      <td>70.0</td>\n",
       "    </tr>\n",
       "  </tbody>\n",
       "</table>\n",
       "</div>"
      ],
      "text/plain": [
       "     count       mean       std  min   25%   50%   75%   max\n",
       "0  38880.0  26.233693  9.809758  1.0  19.0  26.0  34.0  70.0"
      ]
     },
     "execution_count": 23,
     "metadata": {},
     "output_type": "execute_result"
    }
   ],
   "source": [
    "synopsis_lengths = [len(s.split()) for s in train_df['synopsis']]\n",
    "synopsis_lengths = pd.DataFrame(synopsis_lengths)\n",
    "\n",
    "synopsis_lengths.describe().transpose()"
   ]
  },
  {
   "cell_type": "code",
   "execution_count": 24,
   "id": "ef536273",
   "metadata": {},
   "outputs": [
    {
     "data": {
      "text/plain": [
       "array([[<AxesSubplot:title={'center':'0'}>]], dtype=object)"
      ]
     },
     "execution_count": 24,
     "metadata": {},
     "output_type": "execute_result"
    },
    {
     "data": {
      "image/png": "[encoded data removed]",
      "text/plain": [
       "<Figure size 432x288 with 1 Axes>"
      ]
     },
     "metadata": {
      "needs_background": "light"
     },
     "output_type": "display_data"
    }
   ],
   "source": [
    "synopsis_lengths.hist()"
   ]
  },
  {
   "cell_type": "code",
   "execution_count": 25,
   "id": "d5ecff25",
   "metadata": {},
   "outputs": [
    {
     "data": {
      "text/plain": [
       "array(['action', 'adventure', 'crime', 'family', 'fantasy', 'horror',\n",
       "       'mystery', 'romance', 'scifi', 'thriller'], dtype=object)"
      ]
     },
     "execution_count": 25,
     "metadata": {},
     "output_type": "execute_result"
    }
   ],
   "source": [
    "from sklearn.preprocessing import LabelEncoder\n",
    "\n",
    "class_encoder = LabelEncoder()\n",
    "class_encoder.fit(train_df['genre'])\n",
    "CLASSES = class_encoder.classes_\n",
    "CLASSES"
   ]
  },
  {
   "cell_type": "code",
   "execution_count": 26,
   "id": "a19b0a6b",
   "metadata": {},
   "outputs": [
    {
     "data": {
      "text/plain": [
       "array([0, 2, 9])"
      ]
     },
     "execution_count": 26,
     "metadata": {},
     "output_type": "execute_result"
    }
   ],
   "source": [
    "class_encoder.transform(['action', 'crime', 'thriller'])"
   ]
  },
  {
   "cell_type": "code",
   "execution_count": 27,
   "id": "9b7303b0",
   "metadata": {},
   "outputs": [
    {
     "data": {
      "text/plain": [
       "(<_PrefetchDataset element_spec=(TensorSpec(shape=(None,), dtype=tf.string, name=None), TensorSpec(shape=(None,), dtype=tf.int32, name=None))>,\n",
       " <_PrefetchDataset element_spec=(TensorSpec(shape=(None,), dtype=tf.string, name=None), TensorSpec(shape=(None,), dtype=tf.int32, name=None))>,\n",
       " 304,\n",
       " 76)"
      ]
     },
     "execution_count": 27,
     "metadata": {},
     "output_type": "execute_result"
    }
   ],
   "source": [
    "from tensorflow.data import Dataset, AUTOTUNE\n",
    "\n",
    "BATCH_SIZE = 128\n",
    "def build_model_datasets(features, labels):\n",
    "    y = class_encoder.transform(labels)\n",
    "    dataset = Dataset.from_tensor_slices((features, y)).batch(BATCH_SIZE).prefetch(AUTOTUNE)\n",
    "    \n",
    "    return dataset\n",
    "\n",
    "train_dataset = build_model_datasets(train_df['synopsis'], train_df['genre'])\n",
    "val_dataset = build_model_datasets(val_df['synopsis'], val_df['genre'])\n",
    "\n",
    "train_dataset, val_dataset, len(train_dataset), len(val_dataset)"
   ]
  },
  {
   "cell_type": "code",
   "execution_count": 28,
   "id": "43947416",
   "metadata": {},
   "outputs": [
    {
     "name": "stdout",
     "output_type": "stream",
     "text": [
      "(<tf.Tensor: shape=(128,), dtype=string, numpy=\n",
      "array([b'A maniac cut and burn the body of the victims without a real reason. Annie (Frances Williams) the sister of one of the girls killed, wanna know more about this mistery and for her starts a nightmare.',\n",
      "       b'A young undercover cop fights to control a constantly changing reality while trying to maintain her own grip on sanity when she joins the hunt for a brutal serial killer.',\n",
      "       b'In the not too distant future, Earth is attacked by a foreign enemy. With help from an alien ally, mankind must rebuild on a new planet but one man assigned to the job has a personal agenda that could jeopardize the entire mission.',\n",
      "       b\"It's a journey of a man who was born handicapped without hands but he never lost confidence in himself and ends up an opened school on his mother name where all normal and abnormal kids can study together.\",\n",
      "       b'Val Barber, a private investigator, is hired by a wealthy widow to find her missing granddaughter.',\n",
      "       b'When a bunch of kids on the naughty list receive nothing for Christmas, their parents decide to sue Santa Claus.',\n",
      "       b'A former circus artist escapes from a mental hospital to rejoin his armless mother - the leader of a strange religious cult - and is forced to enact brutal murders in her name as he becomes \"her arms\".',\n",
      "       b'A paranoid man begins videotaping the strange, unexplainable events happening around him.',\n",
      "       b'As Ishaan, a music producer who has commitment issues with the women in his life, feels a connection with Gauri, his next-door neighbor, he begins to learn the importance of relationships.',\n",
      "       b'The jury in a New York City murder trial is frustrated by a single member whose skeptical caution forces them to more carefully consider the evidence before jumping to a hasty verdict.',\n",
      "       b'Max Kirkpatrick is a cop who protects Kate McQuean, a civil law attorney, from a renegade KGB team out to terminate her.',\n",
      "       b\"In 1968 five young sleuths must decode a series of complex clues based on Thomas Edison's life and inventions in order to find a local tycoon's hidden wealth, hoping the money will save their coal mining town from impending financial ruin.\",\n",
      "       b'The young people who met years later at the University and fell in love with each other are actually the children of two hostile families, but they will not give up their love.',\n",
      "       b'A New York fashion model finds herself being pursued by a poor but honest garage mechanic and a rich philanderer.',\n",
      "       b'Santhana Devan, a freedom fighter, secretly operates a gang to act against the British government. His cover is blown when his own sister is raped and murdered by a British officer.',\n",
      "       b\"A group of friends find their party is being crashed by a group of mysterious cat-like ghouls. To make matters worse, their school's murderous bullies decide to show up as well.\",\n",
      "       b\"The Supreme Court orders the release of three Satanist men convicted of raping Jake Cabrera's wife Hannah. Jake decides to render his own brand of justice. However, the souls of the three convicts possess him, causing harm to his family.\",\n",
      "       b\"Charlie and Lisa, two divorced parents in their 40's who find themselves at a midlife crossroads. Both are single parents and they have four complicated teenagers.\",\n",
      "       b\"A mad female scientist needs Santo's blood for a youth serum; and she has Frankenstein's reliable old monster to help her get it.\",\n",
      "       b'Black Easter is based on the famous legend of a bride that was killed on her wedding night. The ghostly bride also known as \"Resurrection Mary\" hitchhikes and kills everyone in her path on each anniversary of that fateful night.',\n",
      "       b\"In a gothic setting, a detective uses a mysterious machine to solve one of the Century's most difficult cases.\",\n",
      "       b'Plot has not been disclosed at this time.',\n",
      "       b'When a long lost tribe stakes its claim to Animal Paradise, Yugo, Lala and Uncle Bear team up once more, this time with parental supervision.',\n",
      "       b'In this origin story of Father Christmas, an ordinary boy (with a loyal pet mouse and a reindeer at his side) sets out on an extraordinary adventure to find his father who is on a quest to discover the fabled village of Elfhelm.',\n",
      "       b'A group of college students decide to shoot a documentary on the psychological causes that lead to a form of demonic possession. However, the boys will remain trapped in their game of suggestion with tragically unexpected effects.',\n",
      "       b\"The businessman who sends the first Chilean astronaut into outer space can't quite come up with the money to bring the adventurer back.\",\n",
      "       b'Two powerful female warriors must journey across a post-apocalyptic land to fight a ritual duel, and fulfill an ancient prophecy.',\n",
      "       b'Three legendary, immortal warriors reinvent themselves as modern-day crime-fighters.',\n",
      "       b'A computer genius is confined to a penthouse after a car accident, with only a nurse to look after him. But the advanced computer systems designed to make his life easier appear to be taking control.',\n",
      "       b'A witch put to death in 1692 swears vengeance on her persecutors and returns to the present day to punish their descendants.',\n",
      "       b'An urban husband and wife travel to the jungle and learn just how precious their relationship is.',\n",
      "       b'US sleuth Whispering Smith arrives in London on vacation, but soon becomes embroiled in a murder case.',\n",
      "       b\"Allied agents stage a daring raid on a castle where the Nazis are holding American brigadier general George Carnaby prisoner, but that's not all that's really going on.\",\n",
      "       b'They know when you are alone',\n",
      "       b'Young Jesse travels through time trying to stop a bunch of evil, virtual, fight managers from destroying Earth.',\n",
      "       b\"Bamse and his friends go to the Arctic to rescue Skalman's scientist friend Beanka who has gone missing. On the way they are joined by the deceitful Kattja who wants the reward money.\",\n",
      "       b'After a wealthy man finds out his wife is a gold digger, he meets and falls for a widowed mother, and complications ensue.',\n",
      "       b\"Alisa Freyndlikh and Andrey Podoshian star in this enchanting retelling of Hans Christian Andersen's classic fairy tale. When a handsome prince tries to find his princess bride, he searches high and low, only to discover love at his doorstep.\",\n",
      "       b'A warrior returning home to his country must battle giant bats, three-headed dogs and a vicious dragon to save his wife, and his people, from the machinations of an evil ruler.',\n",
      "       b'A love story between a \"demi-mondaine\" kept by various lovers, suffering from tuberculosis, and a young provincial bourgeois. Adaptation from the novel by Alexandre Dumas, fils, \"The Lady of the Camellias\".',\n",
      "       b'Advait visits Goa where he meets Sara, a free-spirited girl who lives life unshackled. Opposites attract and all goes well until life turns upside down. Years later, Advait is on a killing spree with cops Aghase and Michael in his way.',\n",
      "       b'A stand up comedian with a brutal alter-ego is interrogated by police about the contents of his hard drive.',\n",
      "       b'Two FBI agents attempt to clarify the murders occurring in a desolate region. They approach the witnesses of the latest incident with the help of the local police. All of them hide something and all have wildly different stories to tell.',\n",
      "       b'After the tragic loss of their child, a couple must prepare to witness their last day of light before the world fades into ever winter and darkness.',\n",
      "       b'Anand comes to Chennai with an ambition of becoming an actor. However, his life turns upside down when he gets embroiled in the murder of a minister.',\n",
      "       b'Arthur C Clarke wrote: \"Mankind will build a tower from the earth\\'s surface into space about 50 years after everyone has stopped laughing about it.\" That time is here.',\n",
      "       b'A truly moving and cruel story, which denounces some of the many injustices that occur in Venezuelan prisons, where the law of the strongest prevails.',\n",
      "       b'The Christmas-themed family film will follow Pat Keeley, a young man from Ireland who has emigrated to the United States and finds himself caught up in an escalating whirlwind of shenanigans that takes him from New York to Santa Fe.',\n",
      "       b'A young man joins a gang of smugglers that looks for someone with clean criminal record.',\n",
      "       b'The story of two men with very different lives but united for the pleasure of killing.',\n",
      "       b'In a french lost village an old woman is killed and her savings stolen. Several members of her family, all called:\"Goupi-...\", are suspected.',\n",
      "       b'A rich kid, with a fondness for fast bikes, is blamed when a motorcycle accident puts his best friend in a coma.',\n",
      "       b\"In 2072 Rome, Italy, the ruthless CEO of a TV network plots to stage a modern series of gladiator games for ratings while one 'contenstant' learns of a conspiracy behind the true nature of the results.\",\n",
      "       b\"A young woman's life turns chaotic when she uncovers a deadly secret about her friend.\",\n",
      "       b\"Police officer Yukimura Sayo and her younger sister Miwa visit a ryokan located deep in the mountains. They don't know that this traditional inn famous for a nearby hot spring with healing qualities is a den for vampires.\",\n",
      "       b'After a peace-loving Japanese immigrant and his family become victims of a crime syndicate, a master ninja emerges.',\n",
      "       b'On his way to become the world\\'s richest, a young and corrupted billionaire named Alain Arnault is hunted by an anthropomorphic being known as \"The God of Money\".',\n",
      "       b'Vacationing Englishman Oliver Larker stumbles upon a plot to kill a young American tourist in Spain.',\n",
      "       b'Ho is a refugee from Hong Kong. He strives with talent and hardworking, and grows into a casino tycoon.',\n",
      "       b\"A widowed reporter recruits the help of a federal agent to investigate her late husband's secrets, but the two become the target of unknown attackers.\",\n",
      "       b'Corporate Shadow Ops Commander Cassandra Lake learns that her young daughter holds a secret that her employer must protect at all costs. Sandra must protect her daughter from the overwhelming forces rallied against her.',\n",
      "       b\"Strange things happen when Chandru and Sangeetha decide to get married. To his horror, Chandru learns that they are being pursued and attacked by the ghost of Sangeetha's mother from her previous life.\",\n",
      "       b'A retired cop and his new partner must put their differences aside while investigating a drug ring.',\n",
      "       b\"A father travels from Oklahoma to France to help his estranged daughter, who is in prison for a murder she claims she didn't commit.\",\n",
      "       b'While doing research in the woods, four college friends find a cursed Indian burial mound and find themselves trapped in a mysterious maze, followed by a terrifying force.',\n",
      "       b'A nerd spends his time at an allotment shed away from his wife. When the zombie apocalypse begins, he and his nerdy friend try to make it through and save the wife and her cute friend.',\n",
      "       b'In the near future, convicts are offered the chance to volunteer as medical subjects to shorten their sentence. One such subject for a new drug capable of generating feelings of love begins questioning the reality of his emotions.',\n",
      "       b\"Joan flees New York City for the sweltering canyons above Los Angeles after her married lover's suicide and she plots to take down a woman from her haunted past.\",\n",
      "       b\"With the help of an inventor's secret workshop, Ritter Rost tries to lead his country out of a terrible crisis and become a knight again.\",\n",
      "       b\"A group of British and Aboriginal slaves in 1800's Australia, work together to find an ancient spear and take back their land.\",\n",
      "       b'A woman goes undercover as an exotic dancer to kill the mob boss that murdered her boyfriend.',\n",
      "       b'A Bounty Hunter and his private network of elite vigilantes must prevent a dangerous crime syndicate from establishing absolute power.',\n",
      "       b\"Recently orphaned, a young boy is taken in by his godmother who is shocked to realize that she can see the boy's imaginary friend: a flamboyant, French magician named Bogus.\",\n",
      "       b'A woman named Yeon-hee (Ha Ji-won) lives in Busan with her boyfriend Man-sik (Sol Kyung-gu) near Haeundae Beach. But, when they find out a tsunami will hit the city, They realize they only have 10 minutes to escape!',\n",
      "       b'Five friends go onto a streamyards live stream panel like they usually do, however, there were meant to be Six of them, turns out one of them is dead and the killer is on the panel. Then things start to get terrifying.',\n",
      "       b'An American woman inherits an abandoned apartment in Paris and searches to uncover the mystery of why her Great Aunt kept it secret for over seventy years.',\n",
      "       b'It\\'s Pinnochio\\'s sixth birthday, and Geppetto, the Good Fairy, and Pinnochio\\'s friends throw him a magical surprise party. Includes two puppet stories - \"Puss in Boots\" and \"The Drummer Boy\", X',\n",
      "       b'Dad is left home with the kids when their Mom is away for the weekend, but when Dad has to work overtime at the Chocolate Factory, mayhem ensues when the kids get into a feud with the nasty boys next door!',\n",
      "       b\"In the film, St. Nicolas' Eve threatens to be canceled because a young Piet drops St. Nicholas's clock. In addition, the Saint's horse is behaving very strangely because he has run into Britt Dekker.\",\n",
      "       b'In the aftermath of a mysterious and violent farm incident, a public health student seeks to uncover its origins, but her efforts run into direct conflict with the interests of those in power.',\n",
      "       b'A famous novelist breaks out of a mental hospital, taking an ex pro quarterback who fell from grace hostage. The two men embark on a crazy road trip of self discovery through the Arizona desert.',\n",
      "       b'Based on the prologue from the popular novel, People of Paper follows the exploits of a talented former monk who had been famed for his abilities in origami.',\n",
      "       b'During WWII, the British Royal Navy uses a captured German submarine to trick the enemy and protect their supply convoy.',\n",
      "       b'Two sisters inherit their family castle, which is said to be haunted by their ancestor, a dark-haired, red-robed woman who is said to take seven lives every hundred years.',\n",
      "       b\"There is a haunted house in Nandigama. Dead bodies of 34 people resurface in house's well over a period of time. A TV channel plans to host a reality show in that haunted house.\",\n",
      "       b\"A young widow defies society's norms to marry the man of her choosing.\",\n",
      "       b'Once again the legendary tomb explorer Hu Bayi is on a dangerous mission as he seeks out the Tomb of Emperor Xian, located on an island of monstrous creatures in this mystical action-adventure.',\n",
      "       b'Alexandre Dupr\\xc3\\xa9 is a con artist, accidentally involved in a hunt for microfilm, containing a valuable invention of a recently murdered French scientist.',\n",
      "       b\"Kermit and his friends go to New York City to get their musical on Broadway only to find it's a more difficult task than they anticipated.\",\n",
      "       b'After discovering that the reason behind all of his physical differences is a genetic mutation called \"Marfan Syndrome\", Mo is forced to come to terms with a more serious reality.',\n",
      "       b'The parents of a girl who was killed by a savage dog are granted the opportunity to spend three days with their deceased daughter.',\n",
      "       b\"A soldier wakes up in someone else's body and discovers he's part of an experimental government program to find the bomber of a commuter train within 8 minutes.\",\n",
      "       b'A woman offers her country home to friends to help them save their marriage, but her well-meaning gesture creates a new problem.',\n",
      "       b'A dreamer unhappy with his job makes an impulsive decision to become a commercial trucker and tries convincing his brother to join him.',\n",
      "       b'A high school student falls in love with a Nordic tourist.',\n",
      "       b'A geologist aids the escape of a young woman whose father was murdered to recover forged oil documents.',\n",
      "       b'This film is called Fantasia 3 because it contains three fairy tales. The second of the three is The Wonderful Wizard of Oz.',\n",
      "       b'After seeing his ex-girlfriend (Henderson) turn down a nationally televised marriage proposal, a small-time crook (Carlyle) returns to his hometown to try and win back her heart.',\n",
      "       b'Plot outline not being disclosed at this time.',\n",
      "       b'Follows a young Viking as he aspires to hunt dragons, and how he becomes unexpectedly a friend of a young dragon.',\n",
      "       b\"American family inherits a ski resort in Lapland and it's not the only thing they inherit.\",\n",
      "       b\"A flight team is captured and held captive. They are run through a gauntlet of tests to see what they will give up and what they won't.\",\n",
      "       b'In the year 2044, a mutation of the plague brought annihilation to three-quarters of humanity. Those who remain have organized themselves in distant shelters, outside, gangs of looters control the territory.',\n",
      "       b'A cyborg policewoman and her partner hunt a mysterious and powerful hacker called the Puppet Master.',\n",
      "       b'An atheist park ranger and a bible salesman find themselves thrown into a slimy conspiracy that threatens to destroy not just the woods - but the entire world.',\n",
      "       b'A CIA Agent who is unsure whom he can trust, must find and destroy a weaponized nerve agent - that targets specific races and ethnicity - before it is developed and used in a deadly international conspiracy for world domination.',\n",
      "       b\"Money's needed for Kjeld's silver wedding and Egon Olsen has an ingenious plan - steal a red bag with DKK5000000 from the crooked VP of Denmark's largest insurance company. Will Egon survive it?\",\n",
      "       b'The adventures of an investigator (Cagney) for the Bureau of Weights and Measures.',\n",
      "       b'Follows a group of five teens heading off to a cabin for a \"romantic\" weekend. They are hunted down by The Lashman for being unruly teens and disturbing his peace.',\n",
      "       b'An insomnia plagued loner becomes increasingly obsessed with an elusive rat that he believes has invaded his home.',\n",
      "       b'A neo-noir revenge thriller centering on Julia Shames, who after suffering a brutal trauma, falls prey to an unorthodox form of therapy to restore herself.',\n",
      "       b'A group of college students break into an abandoned convent and become possessed by demonic spirits.',\n",
      "       b'A British expedition formed by the lead researcher Jonathan Marchant, his assistant, a doctor and a TV crew, travels to Congo to seek evidence of a dinosaur.',\n",
      "       b\"Diehard Packers fan, Ben 'Zagger' Zagowski, buys a house in the parking lot of Lambeau Field and is forced to choose between a superfan lifestyle and his fianc\\xc3\\xa9, Amy. Based on a true story, set during the 2009 football season.\",\n",
      "       b'Kees is an 11-year-old boy who lives in the center of the city of Amsterdam in the early 20th century.',\n",
      "       b'Young Dr. Kildare tries to help an unlucky brain surgeon and his seemingly insane patient.',\n",
      "       b'Two unlikely companions face gun-slinging cowboys and their own personal family conflicts as they learn the importance of friendship, loyalty, and forgiveness.',\n",
      "       b\"A university research scientist, about to lose funding and status, has a lab accident and discovers he can see people's true intentions -- making his situation even worse.\",\n",
      "       b\"Daisuke struggles with a traumatic accident. One day, he met Ayumi who's being harassed by yakuza. He decides to protect her from them but he developed of seeing violence as a way to gain the affirmation and approval of others,\",\n",
      "       b'Misaki is a schoolgirl who must fight gangs.',\n",
      "       b'A small-town newspaperman begins to suspect that a wave of murders committed in the area may not be the work of a serial killer but a monster.',\n",
      "       b\"Comedy centering on the question of whether a man's wife is or isn't pregnant.\",\n",
      "       b'In 1880, a former Gunfighter, is released from Prison and sets out to reunite with a lost love, but finds himself befriended by five strangers as his journey leads him into a deadly confrontation with an old nemesis.',\n",
      "       b\"Young Catherine Morelli (Julie Christie), who lives in Rome, goes to Geneva to find romance at her father's wedding. There she begins a nearly nymphomaniacal pursuit of a mystery-fantasy man called Gregory (Michael Sarrazin).\",\n",
      "       b'Five years ago Frank Phoenix robbed The Firm. Betrayed by his own crew and murdered, the stolen gold was never found. Now someone is planning revenge.',\n",
      "       b'We invite you to see \"UP ON THE ROOF\" an extremely engaging, gripping love story with a dose of of comedy, drama and numerous twists and turns.',\n",
      "       b'The crew of a space ship confronts an evil galactic ruler out to rule the universe.',\n",
      "       b'A worldly ambitious monsignor clashes with his older brother, a cynical Los Angeles homicide detective who is investigating the brutal murder of a young prostitute.'],\n",
      "      dtype=object)>, <tf.Tensor: shape=(128,), dtype=int32, numpy=\n",
      "array([5, 5, 8, 3, 2, 3, 9, 5, 7, 2, 7, 3, 7, 7, 0, 5, 5, 7, 1, 5, 8, 5,\n",
      "       3, 3, 5, 8, 1, 0, 2, 5, 4, 6, 1, 6, 8, 1, 7, 4, 0, 4, 2, 5, 2, 6,\n",
      "       0, 8, 2, 3, 0, 9, 6, 0, 8, 9, 0, 0, 4, 6, 9, 9, 8, 5, 9, 2, 5, 5,\n",
      "       9, 9, 3, 1, 0, 0, 3, 9, 6, 6, 4, 3, 3, 8, 1, 8, 1, 6, 5, 7, 4, 0,\n",
      "       7, 4, 5, 8, 7, 3, 7, 2, 4, 7, 7, 1, 8, 8, 8, 6, 0, 0, 2, 6, 9, 5,\n",
      "       5, 5, 0, 3, 3, 2, 1, 6, 0, 0, 2, 7, 3, 6, 0, 7, 1, 2])>)\n"
     ]
    }
   ],
   "source": [
    "for i in train_dataset:\n",
    "    print(i)\n",
    "    break;"
   ]
  },
  {
   "cell_type": "code",
   "execution_count": 29,
   "id": "4dcca03d",
   "metadata": {},
   "outputs": [],
   "source": [
    "from tensorflow.keras.layers import TextVectorization\n",
    "\n",
    "SYNOPSIS_VOCAB_SIZE = 4096\n",
    "SYNOPSIS_SEQ_LENGTH = 64\n",
    "\n",
    "vectorizer = TextVectorization(max_tokens=SYNOPSIS_VOCAB_SIZE, output_sequence_length=SYNOPSIS_SEQ_LENGTH)\n",
    "vectorizer.adapt(train_df['synopsis'])"
   ]
  },
  {
   "cell_type": "code",
   "execution_count": 30,
   "id": "c416fc83",
   "metadata": {},
   "outputs": [
    {
     "data": {
      "text/plain": [
       "(['', '[UNK]', 'a', 'the', 'to'],\n",
       " ['freespirited', 'fred', 'filipino', 'fed', 'fair'])"
      ]
     },
     "execution_count": 30,
     "metadata": {},
     "output_type": "execute_result"
    }
   ],
   "source": [
    "vectorizer.get_vocabulary()[:5], vectorizer.get_vocabulary()[-5:]"
   ]
  },
  {
   "cell_type": "code",
   "execution_count": 31,
   "id": "8732da59",
   "metadata": {},
   "outputs": [
    {
     "data": {
      "text/plain": [
       "<tf.Tensor: shape=(64,), dtype=int64, numpy=\n",
       "array([   2,   23,    1,  298, 1806, 2083,    1,   70,   19,    8,  648,\n",
       "       1105,    5,   90, 1947,   15,    2,  561, 2405,   50,  317,   32,\n",
       "        327,    0,    0,    0,    0,    0,    0,    0,    0,    0,    0,\n",
       "          0,    0,    0,    0,    0,    0,    0,    0,    0,    0,    0,\n",
       "          0,    0,    0,    0,    0,    0,    0,    0,    0,    0,    0,\n",
       "          0,    0,    0,    0,    0,    0,    0,    0,    0], dtype=int64)>"
      ]
     },
     "execution_count": 31,
     "metadata": {},
     "output_type": "execute_result"
    }
   ],
   "source": [
    "vectorizer(train_df['synopsis'][0])"
   ]
  },
  {
   "cell_type": "code",
   "execution_count": 32,
   "id": "a45e3496",
   "metadata": {},
   "outputs": [],
   "source": [
    "from tensorflow.keras import Sequential\n",
    "from tensorflow.keras.layers import Embedding, Dense, Input, GlobalAveragePooling1D\n",
    "\n",
    "EMBEDDING_LENGTH = 256\n",
    "def build_model_0():\n",
    "    return Sequential([\n",
    "        Input(shape=(1,), dtype=tf.string),\n",
    "        vectorizer,\n",
    "        Embedding(SYNOPSIS_VOCAB_SIZE, EMBEDDING_LENGTH, input_length=SYNOPSIS_SEQ_LENGTH),\n",
    "        GlobalAveragePooling1D(),\n",
    "        Dense(256, activation='relu'),\n",
    "        Dense(len(CLASSES), activation='softmax')\n",
    "    ], name='model_0')"
   ]
  },
  {
   "cell_type": "code",
   "execution_count": 33,
   "id": "56c7ac73",
   "metadata": {},
   "outputs": [],
   "source": [
    "from tensorflow.keras.losses import SparseCategoricalCrossentropy\n",
    "from tensorflow.keras.optimizers import Adam\n",
    "\n",
    "def compile_model(model):\n",
    "    model.compile(\n",
    "        loss=SparseCategoricalCrossentropy(),\n",
    "        optimizer=Adam(),\n",
    "        metrics=['accuracy']\n",
    "    )"
   ]
  },
  {
   "cell_type": "code",
   "execution_count": 34,
   "id": "bc26a6bb",
   "metadata": {},
   "outputs": [
    {
     "name": "stdout",
     "output_type": "stream",
     "text": [
      "Model: \"model_0\"\n",
      "_________________________________________________________________\n",
      " Layer (type)                Output Shape              Param #   \n",
      "=================================================================\n",
      " text_vectorization (TextVe  (None, 64)                0         \n",
      " ctorization)                                                    \n",
      "                                                                 \n",
      " embedding (Embedding)       (None, 64, 256)           1048576   \n",
      "                                                                 \n",
      " global_average_pooling1d (  (None, 256)               0         \n",
      " GlobalAveragePooling1D)                                         \n",
      "                                                                 \n",
      " dense (Dense)               (None, 256)               65792     \n",
      "                                                                 \n",
      " dense_1 (Dense)             (None, 10)                2570      \n",
      "                                                                 \n",
      "=================================================================\n",
      "Total params: 1116938 (4.26 MB)\n",
      "Trainable params: 1116938 (4.26 MB)\n",
      "Non-trainable params: 0 (0.00 Byte)\n",
      "_________________________________________________________________\n"
     ]
    }
   ],
   "source": [
    "model_0 = build_model_0()\n",
    "compile_model(model_0)\n",
    "model_0.summary()"
   ]
  },
  {
   "cell_type": "code",
   "execution_count": 35,
   "id": "f782a395",
   "metadata": {},
   "outputs": [
    {
     "name": "stdout",
     "output_type": "stream",
     "text": [
      "Epoch 1/5\n",
      "304/304 [==============================] - 6s 17ms/step - loss: 2.1525 - accuracy: 0.2129 - val_loss: 1.9356 - val_accuracy: 0.3035\n",
      "Epoch 2/5\n",
      "304/304 [==============================] - 5s 17ms/step - loss: 1.8247 - accuracy: 0.3408 - val_loss: 1.8836 - val_accuracy: 0.3296\n",
      "Epoch 3/5\n",
      "304/304 [==============================] - 5s 17ms/step - loss: 1.7256 - accuracy: 0.3829 - val_loss: 1.8729 - val_accuracy: 0.3408\n",
      "Epoch 4/5\n",
      "304/304 [==============================] - 5s 17ms/step - loss: 1.6567 - accuracy: 0.4102 - val_loss: 1.8711 - val_accuracy: 0.3455\n",
      "Epoch 5/5\n",
      "304/304 [==============================] - 5s 17ms/step - loss: 1.6003 - accuracy: 0.4316 - val_loss: 1.8837 - val_accuracy: 0.3433\n"
     ]
    }
   ],
   "source": [
    "model_0_history = model_0.fit(train_dataset, epochs=5, validation_data=val_dataset)"
   ]
  },
  {
   "cell_type": "code",
   "execution_count": 36,
   "id": "2b8fd456",
   "metadata": {},
   "outputs": [
    {
     "data": {
      "text/plain": [
       "<AxesSubplot:>"
      ]
     },
     "execution_count": 36,
     "metadata": {},
     "output_type": "execute_result"
    },
    {
     "data": {
      "image/png": "[encoded data removed]",
      "text/plain": [
       "<Figure size 432x288 with 1 Axes>"
      ]
     },
     "metadata": {
      "needs_background": "light"
     },
     "output_type": "display_data"
    }
   ],
   "source": [
    "pd.DataFrame(model_0_history.history).plot()"
   ]
  },
  {
   "cell_type": "code",
   "execution_count": 37,
   "id": "343ee4cc",
   "metadata": {},
   "outputs": [
    {
     "data": {
      "text/plain": [
       "<_PrefetchDataset element_spec=TensorSpec(shape=(None,), dtype=tf.string, name=None)>"
      ]
     },
     "execution_count": 37,
     "metadata": {},
     "output_type": "execute_result"
    }
   ],
   "source": [
    "X_TEST = Dataset.from_tensor_slices(test_df['synopsis']).batch(BATCH_SIZE).prefetch(AUTOTUNE)\n",
    "X_TEST"
   ]
  },
  {
   "cell_type": "code",
   "execution_count": 38,
   "id": "f862b4a1",
   "metadata": {},
   "outputs": [
    {
     "data": {
      "text/plain": [
       "<_PrefetchDataset element_spec=TensorSpec(shape=(None,), dtype=tf.int32, name=None)>"
      ]
     },
     "execution_count": 38,
     "metadata": {},
     "output_type": "execute_result"
    }
   ],
   "source": [
    "Y_TEST = class_encoder.transform(test_df['genre'])\n",
    "batched_Y_TEST = Dataset.from_tensor_slices(Y_TEST).batch(BATCH_SIZE).prefetch(AUTOTUNE)\n",
    "batched_Y_TEST"
   ]
  },
  {
   "cell_type": "code",
   "execution_count": 42,
   "id": "5dd8a097",
   "metadata": {},
   "outputs": [
    {
     "name": "stdout",
     "output_type": "stream",
     "text": [
      "43/43 [==============================] - 0s 4ms/step\n"
     ]
    },
    {
     "data": {
      "image/png": "[encoded data removed]",
      "text/plain": [
       "<Figure size 576x576 with 2 Axes>"
      ]
     },
     "metadata": {
      "needs_background": "light"
     },
     "output_type": "display_data"
    }
   ],
   "source": [
    "from sklearn.metrics import precision_recall_fscore_support\n",
    "from sklearn.metrics import ConfusionMatrixDisplay\n",
    "\n",
    "def model_predict(model):\n",
    "    predictions = model.predict(X_TEST)\n",
    "    predictions = np.argmax(predictions, axis=1)\n",
    "    predictions = class_encoder.inverse_transform(predictions)    \n",
    "    return predictions \n",
    "\n",
    "def plot_confusion_matrix(y_true, y_pred):\n",
    "    display = ConfusionMatrixDisplay.from_predictions(y_true, y_pred, \n",
    "                                                   cmap='Greens')\n",
    "    fig = display.ax_.get_figure()\n",
    "    fig.set_figwidth(8)\n",
    "    fig.set_figheight(8)\n",
    "def evaluate_model(model):\n",
    "    predictions = model_predict(model)\n",
    "    macro_metrics = precision_recall_fscore_support(test_df['genre'], predictions, average=\"macro\")\n",
    "    weighted_metrics = precision_recall_fscore_support(test_df['genre'], predictions, labels=CLASSES)\n",
    "    plot_confusion_matrix(test_df['genre'], predictions)\n",
    "    return {\n",
    "        'weighted_metrics': weighted_metrics, \n",
    "        'precision': macro_metrics[0],\n",
    "        'recall': macro_metrics[1],\n",
    "        'f1-score': macro_metrics[2],\n",
    "        'predictions': predictions\n",
    "    }\n",
    "model_0_data = evaluate_model(model_0)"
   ]
  },
  {
   "cell_type": "code",
   "execution_count": 43,
   "id": "d930e17d",
   "metadata": {},
   "outputs": [
    {
     "data": {
      "text/plain": [
       "{'weighted_metrics': (array([0.30536131, 0.3045977 , 0.32473118, 0.35897436, 0.27272727,\n",
       "         0.38398693, 0.28448276, 0.46825397, 0.32017076, 0.20860927]),\n",
       "  array([0.24259259, 0.1962963 , 0.27962963, 0.44074074, 0.27777778,\n",
       "         0.43518519, 0.24444444, 0.5462963 , 0.55555556, 0.11666667]),\n",
       "  array([0.27038184, 0.23873874, 0.30049751, 0.39567747, 0.27522936,\n",
       "         0.40798611, 0.26294821, 0.5042735 , 0.40622884, 0.14964371]),\n",
       "  array([540, 540, 540, 540, 540, 540, 540, 540, 540, 540], dtype=int64)),\n",
       " 'precision': 0.3231895505247933,\n",
       " 'recall': 0.3335185185185185,\n",
       " 'f1-score': 0.3211605289171138,\n",
       " 'predictions': array(['romance', 'horror', 'action', ..., 'fantasy', 'horror', 'action'],\n",
       "       dtype=object)}"
      ]
     },
     "execution_count": 43,
     "metadata": {},
     "output_type": "execute_result"
    }
   ],
   "source": [
    "model_0_data"
   ]
  },
  {
   "cell_type": "code",
   "execution_count": 44,
   "id": "710d40a7",
   "metadata": {},
   "outputs": [
    {
     "name": "stdout",
     "output_type": "stream",
     "text": [
      "====================== Metrics =======================\n",
      "class            |  precision|     recall|   F1-score|\n",
      "ACTION           |   0.305361|   0.242593|   0.270382|\n",
      "ADVENTURE        |   0.304598|   0.196296|   0.238739|\n",
      "CRIME            |   0.324731|   0.279630|   0.300498|\n",
      "FAMILY           |   0.358974|   0.440741|   0.395677|\n",
      "FANTASY          |   0.272727|   0.277778|   0.275229|\n",
      "HORROR           |   0.383987|   0.435185|   0.407986|\n",
      "MYSTERY          |   0.284483|   0.244444|   0.262948|\n",
      "ROMANCE          |   0.468254|   0.546296|   0.504274|\n",
      "SCIFI            |   0.320171|   0.555556|   0.406229|\n",
      "THRILLER         |   0.208609|   0.116667|   0.149644|\n",
      "======================================================\n",
      "GLOBAL           |   0.323190|   0.333519|   0.321161|\n",
      "======================================================\n"
     ]
    }
   ],
   "source": [
    "def report_model(data):\n",
    "    print(\"====================== Metrics =======================\")\n",
    "    print(f\"{'class':16s} |{'precision':>11}|{'recall':>11}|{'F1-score':>11}|\")\n",
    "    for i, label in enumerate(CLASSES):\n",
    "        metrics = data['weighted_metrics']\n",
    "        precision = metrics[0][i]\n",
    "        recall = metrics[1][i]\n",
    "        f1 = metrics[2][i]\n",
    "        print(f\"{label.upper():16s} |{precision:>11.6f}|{recall:>11.6f}|{f1:>11.6f}|\")\n",
    "\n",
    "    print(\"======================================================\")\n",
    "    print(f\"{'GLOBAL':16s} |{data['precision']:>11.6f}|{data['recall']:>11.6f}|{data['f1-score']:>11.6f}|\")\n",
    "    print(\"======================================================\")\n",
    "    \n",
    "\n",
    "report_model(model_0_data)"
   ]
  },
  {
   "cell_type": "code",
   "execution_count": null,
   "id": "0516fa17",
   "metadata": {},
   "outputs": [],
   "source": []
  }
 ],
 "metadata": {
  "kernelspec": {
   "display_name": "Python 3 (ipykernel)",
   "language": "python",
   "name": "python3"
  },
  "language_info": {
   "codemirror_mode": {
    "name": "ipython",
    "version": 3
   },
   "file_extension": ".py",
   "mimetype": "text/x-python",
   "name": "python",
   "nbconvert_exporter": "python",
   "pygments_lexer": "ipython3",
   "version": "3.9.12"
  }
 },
 "nbformat": 4,
 "nbformat_minor": 5
}
